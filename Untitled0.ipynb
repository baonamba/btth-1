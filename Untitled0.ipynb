{
  "nbformat": 4,
  "nbformat_minor": 0,
  "metadata": {
    "colab": {
      "provenance": [],
      "include_colab_link": true
    },
    "kernelspec": {
      "name": "python3",
      "display_name": "Python 3"
    },
    "language_info": {
      "name": "python"
    }
  },
  "cells": [
    {
      "cell_type": "markdown",
      "metadata": {
        "id": "view-in-github",
        "colab_type": "text"
      },
      "source": [
        "<a href=\"https://colab.research.google.com/github/baonamba/btth-1/blob/main/Untitled0.ipynb\" target=\"_parent\"><img src=\"https://colab.research.google.com/assets/colab-badge.svg\" alt=\"Open In Colab\"/></a>"
      ]
    },
    {
      "cell_type": "code",
      "source": [
        "#bài 2: Cho ax2+bx+c=0. Viết chương trình của ax2+bx+c=0\n",
        "a = float (input ('a = '))\n",
        "b = float (input ('b = '))\n",
        "c = float (input ('c = '))\n",
        "if (a == 0):\n",
        "  if (b == 0):\n",
        "    if (c == 0):\n",
        "      print('phương trình vô số nghiệm')\n",
        "    else:\n",
        "      print('phương trình vô nghiệm')\n",
        "   else:\n",
        "    print('phương trình có nghiệm x = ',-c/b)\n",
        "else:\n",
        "  d = b*b - 4*a*c\n",
        "  if (d > 0):\n",
        "    x1 = float ( (-b + d**0.5)/(2*a))\n",
        "    x2 = float ( (-b - d**0.5)/(2*a))\n",
        "    print('phương trình có 2 nghiệm phân biệt x1 = , x2 = ',(-b + d**0.5)/(2*a) , (-b - d**0.5)/(2*a))\n",
        "  elif (d == 0):\n",
        "    x1 = x2 = float (-b/(2*a))\n",
        "    print('phương trình có nghiệm kép', -b/(2*a))\n",
        "  else:\n",
        "    print('phương trình vô nghiệm')"
      ],
      "metadata": {
        "id": "XUFwtdjITRm0"
      },
      "execution_count": null,
      "outputs": []
    },
    {
      "cell_type": "code",
      "source": [
        "from google.colab import drive\n",
        "drive.mount('/content/drive')"
      ],
      "metadata": {
        "colab": {
          "base_uri": "https://localhost:8080/"
        },
        "id": "JmfvnG8G1p2X",
        "outputId": "19ed1122-a4c4-4e4e-aac8-bb22cc4b4fe8"
      },
      "execution_count": 3,
      "outputs": [
        {
          "output_type": "stream",
          "name": "stdout",
          "text": [
            "Drive already mounted at /content/drive; to attempt to forcibly remount, call drive.mount(\"/content/drive\", force_remount=True).\n"
          ]
        }
      ]
    },
    {
      "cell_type": "code",
      "source": [],
      "metadata": {
        "id": "czNp3EKO2suU"
      },
      "execution_count": null,
      "outputs": []
    },
    {
      "cell_type": "markdown",
      "source": [],
      "metadata": {
        "id": "jeRrCvC02tiu"
      }
    },
    {
      "cell_type": "code",
      "source": [],
      "metadata": {
        "id": "TkiVHaoE2unl"
      },
      "execution_count": null,
      "outputs": []
    },
    {
      "cell_type": "code",
      "source": [],
      "metadata": {
        "id": "7NnI4AoO2wBo"
      },
      "execution_count": null,
      "outputs": []
    },
    {
      "cell_type": "code",
      "source": [
        "# @title Example form fields\n",
        "# @markdown Forms support many types of fields.\n",
        "\n",
        "no_type_checking = ''  # @param\n",
        "string_type = 'example'  # @param {type: \"string\"}\n",
        "slider_value = 142  # @param {type: \"slider\", min: 100, max: 200}\n",
        "number = 102  # @param {type: \"number\"}\n",
        "date = '2010-11-05'  # @param {type: \"date\"}\n",
        "pick_me = \"monday\"  # @param ['monday', 'tuesday', 'wednesday', 'thursday']\n",
        "select_or_input = \"apples\" # @param [\"apples\", \"bananas\", \"oranges\"] {allow-input: true}\n",
        "# @markdown ---\n"
      ],
      "metadata": {
        "id": "aaJ1RSS-2Wxn"
      },
      "execution_count": null,
      "outputs": []
    },
    {
      "cell_type": "code",
      "source": [
        "#bài 3: Cho a,b,c là 3 cạnh tam giác. Viết chương trình xét: tam giác vuông , tam giác cân , tam giác đều\n",
        "a = float (input ('a = '))\n",
        "b = float (input ('b = '))\n",
        "c = float (input ('c = '))\n",
        "if (a**2 == b**2 + c**2) or (b**2 == a**2 + c**2) or (c**2 == a**2 + b**2):\n",
        "  print('tam giác vuông')\n",
        "  p = a + b + c\n",
        "  s = (1/2*a*b) or (1/2*a*C) or (1/2*b*c)\n",
        "  print('diện tích tam giác vuông',s)\n",
        "  print('chu vi tam giác vuông',p)\n",
        "elif ((a == b) or (a == c) or (b == c)) and not(a == b == c):\n",
        "  print('tam giác cân')\n",
        "  p = a + b + c\n",
        "  s = p*(p-a)*(p-b)*(p-c)**0.5\n",
        "  print('diện tích tam giác cân',s)\n",
        "  print('chu vi tam giác cân',p)\n",
        "elif a == b == c:\n",
        "  print('tam giác đều')\n",
        "  p = a + b + c\n",
        "  s = a**2*(3**0.5)/4\n",
        "  print('diện tích tam giác đều',s)\n",
        "  print('chu vi tam giác đều',p)\n",
        "else:\n",
        "  if (a != b and a != c and b != c) and not ((a**2 == b**2 + c**2) or (b**2 == a**2 + c**2) or (c**2))\n",
        "    print('tam giác thường')\n",
        "    p = a + b + c\n",
        "    s = p*(p-a)*(p-b)*(p-c)**0,5\n",
        "    print('diện tích tam giác thường',s)\n",
        "    print('chu vi tam giác thường',p)\n"
      ],
      "metadata": {
        "id": "5Mx2leDsbFpW"
      },
      "execution_count": null,
      "outputs": []
    },
    {
      "cell_type": "markdown",
      "source": [
        "     a = 4\n",
        "     b = 4\n",
        "     c = 4\n",
        "     tam giác đều\n",
        "     diện tích tam giác đều 6.928203230275509\n",
        "     chu vi tam giác đều 12.0    a = 4\n",
        "          b = 4\n",
        "               c = 4\n",
        "                    tam giác đều\n",
        "                         diện tích tam giác đều 6.928203230275509\n",
        "                              chu vi tam giác đều 12.0"
      ],
      "metadata": {
        "id": "aplf7R2xhty-"
      }
    }
  ]
}